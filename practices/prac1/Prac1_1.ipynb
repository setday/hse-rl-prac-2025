{
  "cells": [
    {
      "cell_type": "markdown",
      "metadata": {
        "id": "k4NMHBq16Y_g"
      },
      "source": [
        "# RL basics\n",
        "\n",
        "Термины и понятия:\n",
        "\n",
        "- агент/среда\n",
        "- наблюдение $o$ / состояние $s$\n",
        "- действие $a$, стратегия $\\pi: \\pi(s) \\rightarrow a$ функция перехода $T: T(s, a) \\rightarrow s'$\n",
        "- вознаграждение $r$, ф-я вознаграждений $R: R(s, a) \\rightarrow r$\n",
        "- цикл взаимодействия, траектория $\\tau: (s_0, a_0, r_0, s_1, a_1, r_1, ..., s_T, a_T, r_T)$, эпизод\n",
        "- отдача $G$, подсчет отдачи, средняя[/ожидаемая] отдача $\\mathbb{E}[G]$"
      ]
    },
    {
      "cell_type": "code",
      "execution_count": 1,
      "metadata": {
        "id": "MoNP7Wdn6aP0"
      },
      "outputs": [],
      "source": [
        "try:\n",
        "    import google.colab\n",
        "    COLAB = True\n",
        "except ModuleNotFoundError:\n",
        "    COLAB = False\n",
        "    pass\n",
        "\n",
        "if COLAB:\n",
        "    !pip -q install \"gymnasium[classic-control, atari, accept-rom-license]\"\n",
        "    !pip -q install piglet\n",
        "    !pip -q install imageio_ffmpeg\n",
        "    !pip -q install moviepy==1.0.3"
      ]
    },
    {
      "cell_type": "code",
      "execution_count": 2,
      "metadata": {
        "id": "9JPaLF5v6esZ"
      },
      "outputs": [],
      "source": [
        "import glob\n",
        "import io\n",
        "import base64\n",
        "import gymnasium as gym\n",
        "import numpy as np\n",
        "from IPython import display as ipythondisplay\n",
        "from IPython.display import HTML\n",
        "import matplotlib.pyplot as plt\n",
        "%matplotlib inline"
      ]
    },
    {
      "cell_type": "markdown",
      "metadata": {
        "id": "OGAoJeNF6hJO"
      },
      "source": [
        "## Agent, environment\n",
        "\n",
        "<img src=https://gymnasium.farama.org/_images/lunar_lander.gif caption=\"lunar lander\" width=\"150\" height=\"50\"><img src=https://gymnasium.farama.org/_images/mountain_car.gif caption=\"mountain car\" width=\"150\" height=\"50\">\n",
        "<img src=https://gymnasium.farama.org/_images/cliff_walking.gif caption=\"cliff walking\" width=\"300\" height=\"50\">\n",
        "<img src=https://ale.farama.org/_images/montezuma_revenge.gif caption=\"montezuma revenge\" width=\"150\" height=\"100\">\n",
        "<img src=https://github.com/danijar/crafter/raw/main/media/video.gif caption=\"crafter\" width=\"150\" height=\"100\">\n",
        "<img src=https://camo.githubusercontent.com/6df2ca438d8fe8aa7a132b859315147818c54af608f8609320c3c20e938acf48/68747470733a2f2f6d656469612e67697068792e636f6d2f6d656469612f344e78376759694d394e44724d724d616f372f67697068792e676966 caption=\"malmo minecraft\" width=\"150\" height=\"100\">\n",
        "<img src=https://images.ctfassets.net/kftzwdyauwt9/e0c0947f-1a44-4528-4a41450a9f0a/2d0e85871d58d02dbe01b2469d693d4a/table-03.gif caption=\"roboschool\" width=\"150\" height=\"100\">\n",
        "<img src=https://raw.githubusercontent.com/Tviskaron/mipt/master/2019/RL/02/mdp.png caption=\"Марковский процесс принятия решений\" width=\"150\" height=\"100\">\n",
        "<img src=https://minigrid.farama.org/_images/DoorKeyEnv.gif caption=\"minigrid\" width=\"120\" height=\"120\">"
      ]
    },
    {
      "cell_type": "markdown",
      "metadata": {
        "id": "dcyLKga76mA_"
      },
      "source": [
        "## Observation, state\n",
        "\n",
        "TODO:\n",
        "- добавить примеры наблюдений/состояний (числа, векторы, картинки)\n",
        "- интуитивное объяснение различия, положить пока, что наблюдение = состояние\n",
        "- пространство состояний\n",
        "\n",
        "\n",
        "В каждый момент времени среда имеет некоторое внутреннее состояние. Здесь слово \"состояние\" я употребил скорее в интуитивном понимании, чтобы обозначить, что среда изменчива (иначе какой смысл с ней взаимодействовать, если ничего не меняется). В обучении с подкреплением под термином состояние $s$ (или $s_t$, где $t$ — текущее время) подразумевают либо абстрактно информацию о \"состоянии\" среды, либо ее явное представление в виде данных, достаточные для полного описания \"состояния\". *NB: Здесь можно провести аналогию с компьютерными играми — файл сохранения игры как раз содержит информацию о \"состоянии\" мира игры, чтобы в будущем можно было продолжить с текущей точки, так что данные этого файла в целом можно с некоторой натяжкой считать состоянием (с натяжкой, потому что редко когда в сложных играх файлы сохранения содержат прямо вот всю информацию, так что после перезагрузки вы получите не совсем точную копию). При этом обычно подразумевается, что состояние не содержит в себе ничего лишнего, то есть это **минимальный** набор информации.*\n",
        "\n",
        "Наблюдением $o$ называют то, что агент \"видит\" о текущем состоянии среды. Это не обязательно зрение, а вообще вся доступная ему информация (условно, со всех его органов чувств).\n",
        "\n",
        "В общем случае наблюдение: кортеж/словарь многомерных векторов чисел."
      ]
    },
    {
      "cell_type": "code",
      "execution_count": 3,
      "metadata": {
        "id": "ypHv9w6i6pcX"
      },
      "outputs": [
        {
          "name": "stdout",
          "output_type": "stream",
          "text": [
            "(4,)\n",
            "(2,)\n"
          ]
        },
        {
          "name": "stderr",
          "output_type": "stream",
          "text": [
            "c:\\Users\\setday\\AppData\\Local\\Programs\\Python\\Python311\\Lib\\site-packages\\gymnasium\\envs\\registration.py:513: DeprecationWarning: \u001b[33mWARN: The environment CartPole-v0 is out of date. You should consider upgrading to version `v1`.\u001b[0m\n",
            "  logger.deprecation(\n"
          ]
        }
      ],
      "source": [
        "print(gym.make(\"CartPole-v0\").reset()[0].shape)\n",
        "print(gym.make(\"MountainCar-v0\").reset()[0].shape)"
      ]
    },
    {
      "cell_type": "markdown",
      "metadata": {
        "id": "GabuCLcJ67lb"
      },
      "source": [
        "## Action, policy, transition function\n",
        "\n",
        "Рассмотрим следующие MDP:\n",
        "\n",
        "- A: <img src=https://i.ibb.co/mrCMVZLQ/mdp-a.png caption=\"A\" width=\"400\">\n",
        "- B: <img src=https://i.ibb.co/GQ2tVtjC/mdp-b.png caption=\"B\" width=\"400\">\n",
        "- C: <img src=https://i.ibb.co/Jj9LYHjP/mdp-c.png caption=\"C\" width=\"400\">\n",
        "- D: <img src=https://i.ibb.co/Y47Mr83b/mdp-d.png caption=\"D\" width=\"400\">\n",
        "- E: <img src=https://i.ibb.co/Kjt1Xhmf/mdp-e.png caption=\"E\" width=\"400\">\n",
        "\n",
        "Links to all:\n",
        "[A](https://i.ibb.co/mrCMVZLQ/mdp-a.png)\n",
        "[B](https://i.ibb.co/GQ2tVtjC/mdp-b.png)\n",
        "[C](https://i.ibb.co/Jj9LYHjP/mdp-c.png)\n",
        "[D](https://i.ibb.co/Y47Mr83b/mdp-d.png)\n",
        "[E](https://i.ibb.co/Kjt1Xhmf/mdp-e.png)\n",
        "\n",
        "Давайте явно запишем пространства состояний $S$ и действий $A$, а также функцию перехода $T$ среды."
      ]
    },
    {
      "cell_type": "code",
      "execution_count": 4,
      "metadata": {
        "id": "4XpqNc_o6_CS"
      },
      "outputs": [
        {
          "name": "stdout",
          "output_type": "stream",
          "text": [
            "states={0, 1, 2} | actions={0}\n",
            "Transition function T={(0, 0): 1, (1, 0): 2, (2, 0): 2}\n"
          ]
        }
      ],
      "source": [
        "states = set(range(3))\n",
        "actions = set(range(1))\n",
        "\n",
        "print(f'{states=} | {actions=}')\n",
        "\n",
        "T = {\n",
        "    (0, 0): 1,\n",
        "    (1, 0): 2,\n",
        "    (2, 0): 2\n",
        "}\n",
        "print(f'Transition function {T=}')\n",
        "\n",
        "A_mdp = states, actions, T\n",
        "\n",
        "states_B = set(range(4))\n",
        "actions_B = set(range(3))\n",
        "T_B = {\n",
        "    (0, 0): 1, (0, 1): 2, (0, 2): 0,\n",
        "    (1, 0): 1, (1, 1): 1, (1, 2): 1,\n",
        "    (2, 0): 2, (2, 1): 2, (2, 2): 2,\n",
        "    (3, 0): 3, (3, 1): 3, (3, 2): 3\n",
        "}\n",
        "B_mdp = states_B, actions_B, T_B\n",
        "\n",
        "states_C = set(range(4))\n",
        "actions_C = set(range(2))\n",
        "T_C = {\n",
        "    (0, 0): 1, (0, 1): 2,\n",
        "    (1, 0): 1, (1, 1): 3,\n",
        "    (2, 0): 3, (2, 1): 2,\n",
        "    (3, 0): 3, (3, 1): 3\n",
        "}\n",
        "C_mdp = states_C, actions_C, T_C\n",
        "\n",
        "states_D = set(range(3))\n",
        "actions_D = set(range(1))\n",
        "T_D = {\n",
        "    (0, 0): [0.2, 0.8, 0.0],\n",
        "    (1, 0): [0.0, 0.3, 0.7],\n",
        "    (2, 0): [0.0, 0.0, 1.0],\n",
        "}\n",
        "D_mdp = states_D, actions_D, T_D\n",
        "\n",
        "states_E = set(range(4))\n",
        "actions_E = set(range(2))\n",
        "T_E = {\n",
        "    (0, 0): [0.0, 0.8, 0.2, 0.0], (0, 1): [0.0, 0.1, 0.9, 0.0],\n",
        "    (1, 0): [0.0, 0.2, 0.0, 0.8], (1, 1): [0.0, 0.0, 1.0, 0.0], # or ..., (1, 1): 2\n",
        "    (2, 0): [0.0, 1.0, 0.0, 0.0], (2, 1): [0.0, 0.0, 0.3, 0.7], # or (2, 0): 1, ...\n",
        "    (3, 0): [0.0, 0.0, 0.0, 1.0], (3, 1): [0.0, 0.0, 0.0, 1.0], # or (3, 0): 3, (3, 1): 3\n",
        "}\n",
        "E_mdp = states_E, actions_E, T_E"
      ]
    },
    {
      "cell_type": "markdown",
      "metadata": {
        "id": "KlqB4WcZ7CDK"
      },
      "source": [
        "Попробуйте записать функцию перехода в матричном виде:"
      ]
    },
    {
      "cell_type": "code",
      "execution_count": 5,
      "metadata": {
        "id": "jmg8hnng7EnJ"
      },
      "outputs": [],
      "source": [
        "T_A_Matrix = np.array([\n",
        "    [1],\n",
        "    [2],\n",
        "    [2]\n",
        "])\n",
        "T_B_Matrix = np.array([\n",
        "    [1, 2, 0],\n",
        "    [1, 1, 1],\n",
        "    [2, 2, 2],\n",
        "    [3, 3, 3]\n",
        "])\n",
        "T_C_Matrix = np.array([\n",
        "    [1, 2],\n",
        "    [1, 3],\n",
        "    [3, 2],\n",
        "    [3, 3]\n",
        "])\n",
        "T_D_Matrix = None # Since it has non-deterministic transitions\n",
        "T_E_Matrix = None # Since it has non-deterministic transitions\n",
        "\n",
        "T_A_Matrix_prob = np.array([\n",
        "    [0.0, 1.0, 0.0],\n",
        "    [0.0, 0.0, 1.0],\n",
        "    [0.0, 0.0, 1.0]\n",
        "])\n",
        "T_B_Matrix_prob = np.array([\n",
        "    [0.0, 1/3, 1/3, 1/3],\n",
        "    [0.0, 1.0, 0.0, 0.0],\n",
        "    [0.0, 0.0, 1.0, 0.0],\n",
        "    [0.0, 0.0, 0.0, 1.0]\n",
        "]) # Use any action with uniform probability\n",
        "T_C_Matrix_prob = np.array([\n",
        "    [0.0, 1/2, 1/2, 0.0],\n",
        "    [0.0, 1/2, 0.0, 1/2],\n",
        "    [0.0, 0.0, 1/2, 1/2],\n",
        "    [0.0, 0.0, 0.0, 1.0]\n",
        "]) # Use any action with uniform probability\n",
        "T_D_Matrix_prob = np.array([\n",
        "    [0.2, 0.8, 0.0],\n",
        "    [0.0, 0.3, 0.7],\n",
        "    [0.0, 0.0, 1.0],\n",
        "])\n",
        "T_E_Matrix_prob = np.array([\n",
        "    [0.0, 0.8 * 1/2 + 0.1 * 1/2, 0.2 * 1/2 + 0.9 * 1/2, 0.0],\n",
        "    [0.0, 0.2 * 1/2 + 0.0 * 1/2, 0.0 * 1/2 + 1.0 * 1/2, 0.8 * 1/2 + 0.0 * 1/2],\n",
        "    [0.0, 1.0 * 1/2 + 0.0 * 1/2, 0.0 * 1/2 + 0.3 * 1/2, 0.0 * 1/2 + 0.7 * 1/2],\n",
        "    [0.0, 0.0, 0.0, 1.0]\n",
        "])"
      ]
    },
    {
      "cell_type": "markdown",
      "metadata": {
        "id": "_FPshg_07G0R"
      },
      "source": [
        "Как получить вероятность нахождения агента в состоянии (1) через N шагов? Что происходит с вероятностями нахождения в состояниях при $N \\rightarrow \\infty$"
      ]
    },
    {
      "cell_type": "code",
      "execution_count": 6,
      "metadata": {
        "id": "9pwc4Atn7IAf"
      },
      "outputs": [
        {
          "name": "stdout",
          "output_type": "stream",
          "text": [
            "A_inf=array([0., 0., 1.])\n",
            "B_inf=array([0.        , 0.33333333, 0.33333333, 0.33333333])\n",
            "C_inf=array([0.00000000e+000, 9.33263619e-302, 9.33263619e-302, 1.00000000e+000])\n",
            "D_inf=array([0., 0., 1.])\n",
            "E_inf=array([0.00000000e+000, 1.60806811e-204, 1.69048035e-204, 1.00000000e+000])\n"
          ]
        }
      ],
      "source": [
        "def get_after_N_steps(T: np.ndarray, s: np.ndarray, N: int) -> np.ndarray:\n",
        "    \"\"\"\n",
        "    T - transition function in matrix form (SxA)\n",
        "    s - start state\n",
        "    N - number of steps\n",
        "    \"\"\"\n",
        "    for _ in range(N):\n",
        "        s = s @ T\n",
        "    return s\n",
        "\n",
        "A_inf = get_after_N_steps(T_A_Matrix_prob, np.array([1, 0, 0]), 1000)\n",
        "B_inf = get_after_N_steps(T_B_Matrix_prob, np.array([1, 0, 0, 0]), 1000)\n",
        "C_inf = get_after_N_steps(T_C_Matrix_prob, np.array([1, 0, 0, 0]), 1000)\n",
        "D_inf = get_after_N_steps(T_D_Matrix_prob, np.array([1, 0, 0]), 1000)\n",
        "E_inf = get_after_N_steps(T_E_Matrix_prob, np.array([1, 0, 0, 0]), 1000)\n",
        "\n",
        "print(f'{A_inf=}\\n{B_inf=}\\n{C_inf=}\\n{D_inf=}\\n{E_inf=}')"
      ]
    },
    {
      "cell_type": "markdown",
      "metadata": {
        "id": "AiU5X4DH7TaG"
      },
      "source": [
        "Давайте попробуем задать двух агентов: случайного и оптимального (для каждой среды свой)."
      ]
    },
    {
      "cell_type": "code",
      "execution_count": 7,
      "metadata": {
        "id": "It2waXJi7WWN"
      },
      "outputs": [],
      "source": [
        "class Agent:\n",
        "    def __init__(self, actions):\n",
        "        self.rng = np.random.default_rng()\n",
        "        self.actions = np.array(list(actions))\n",
        "\n",
        "    def act(self, state):\n",
        "        return self.rng.integers(len(self.actions))\n",
        "    \n",
        "# Optimal agent for MDP A\n",
        "class OptimalAgentA:\n",
        "    def __init__(self, actions):\n",
        "        self.actions = np.array(list(actions))\n",
        "\n",
        "    def act(self, state):\n",
        "        return 0  # There is only one action\n",
        "    \n",
        "# Optimal agent for MDP B\n",
        "class OptimalAgentB:\n",
        "    def __init__(self, actions):\n",
        "        self.actions = np.array(list(actions))\n",
        "\n",
        "    def act(self, state):\n",
        "        return 1  # There is only one non-terminal state without self-loop, so we are going to best reward\n",
        "    \n",
        "# Optimal agent for MDP C\n",
        "class OptimalAgentC:\n",
        "    def __init__(self, actions):\n",
        "        self.actions = np.array(list(actions))\n",
        "\n",
        "    def act(self, state):\n",
        "        if state in [0, 1]: return 1  # Going without loops\n",
        "        if state == 2: return 0  # Going to terminal state\n",
        "        return 0  # There is no actions in terminal state"
      ]
    },
    {
      "cell_type": "markdown",
      "metadata": {
        "id": "XGx2-KeH7lL4"
      },
      "source": [
        "## Reward, reward function\n",
        "\n",
        "Теперь добавим произвольную функцию вознаграждения. Например, для A:"
      ]
    },
    {
      "cell_type": "code",
      "execution_count": 8,
      "metadata": {
        "id": "fk7umEnA7oFv"
      },
      "outputs": [
        {
          "name": "stdout",
          "output_type": "stream",
          "text": [
            "{(0, 0): -0.1, (1, 0): 1.0, (2, 0): 0.0}\n",
            "({0, 1, 2}, {0}, {(0, 0): 1, (1, 0): 2, (2, 0): 2}, {(0, 0): -0.1, (1, 0): 1.0, (2, 0): 0.0})\n"
          ]
        }
      ],
      "source": [
        "R = {\n",
        "    (0, 0): -0.1,\n",
        "    (1, 0): 1.0,\n",
        "    (2, 0): 0.0\n",
        "}\n",
        "print(R)\n",
        "\n",
        "A_mdp = *A_mdp, R\n",
        "print(A_mdp)\n",
        "\n",
        "R_B = {\n",
        "    (0, 0): 0.0, (0, 1): 1.0, (0, 2): 0.0,\n",
        "    (1, 0): 0.0, (1, 1): 0.0, (1, 2): 0.0,\n",
        "    (2, 0): 0.0, (2, 1): 0.0, (2, 2): 0.0,\n",
        "    (3, 0): 0.0, (3, 1): 0.0, (3, 2): 0.0,\n",
        "}\n",
        "B_mdp = *B_mdp, R_B\n",
        "\n",
        "R_C = {\n",
        "    (0, 0): -0.1, (0, 1): +0.1,\n",
        "    (1, 0): -0.5, (1, 1): +1.0,\n",
        "    (2, 0): -0.1, (2, 1): -0.5,\n",
        "    (3, 0): 0.0, (3, 1): 0.0,\n",
        "}\n",
        "C_mdp = *C_mdp, R_C\n",
        "\n",
        "D_mdp = *D_mdp, R\n",
        "E_mdp = *E_mdp, R_C"
      ]
    },
    {
      "cell_type": "markdown",
      "metadata": {
        "id": "j92TZ1l67rVh"
      },
      "source": [
        "## Interaction loop, trajectory, termination, truncation, episode\n",
        "\n",
        "Общий цикл взаимодействия в рамках эпизода:\n",
        "1. Инициализировать среду: $s \\leftarrow \\text{env.init()}$\n",
        "2. Цикл:\n",
        "    - выбрать действие: $a \\leftarrow \\pi(s)$\n",
        "    - получить ответ от среды: $s, r, d \\leftarrow \\text{env.next(a)}$\n",
        "    - если $d == \\text{True}$, выйти из цикла"
      ]
    },
    {
      "cell_type": "code",
      "execution_count": 9,
      "metadata": {
        "id": "MRPZACJt7vG8"
      },
      "outputs": [
        {
          "data": {
            "text/plain": [
              "[(0, 0, -0.1), (1, 0, 1.0), (2, 0, 0.0), (2, 0, 0.0), (2, 0, 0.0)]"
            ]
          },
          "execution_count": 9,
          "metadata": {},
          "output_type": "execute_result"
        }
      ],
      "source": [
        "def run_episode(mdp):\n",
        "    states, actions, T, R = mdp\n",
        "    agent = Agent(actions)\n",
        "\n",
        "    s = 0\n",
        "    tau = []\n",
        "    for _ in range(5):\n",
        "        a = agent.act(s)\n",
        "        s_next = T[(s, a)]\n",
        "        r = R[(s, a)]\n",
        "\n",
        "        tau.append((s, a, r))\n",
        "        s = s_next\n",
        "\n",
        "    return tau\n",
        "\n",
        "run_episode(A_mdp)"
      ]
    },
    {
      "cell_type": "markdown",
      "metadata": {
        "id": "wbGEr8kl7xnS"
      },
      "source": [
        "Termination — означает окончание эпизода, когда достигнуто терминальное состояние. Является частью задания среды.\n",
        "\n",
        "Truncation — означает окончание эпизода, когда достигнут лимит по числу шагов (=времени). Обычно является внешне заданным параметром для удобства обучения.\n",
        "\n",
        "Пока не будем вводить truncation, но поддержим termination: расширьте определение среды информацией о терминальных состояниях для всех описанных ранее сред. Сгенерируйте по несколько случайных траекторий для каждой среды."
      ]
    },
    {
      "cell_type": "code",
      "execution_count": 12,
      "metadata": {},
      "outputs": [],
      "source": [
        "class Env:\n",
        "    def __init__(self, states, actions, T, R, terminal_states, initial_states=None):\n",
        "        self.states = states\n",
        "        self.actions = actions\n",
        "        self.T = T\n",
        "        self.R = R\n",
        "        self.terminal_states = terminal_states\n",
        "        self.initial_states = initial_states\n",
        "\n",
        "        self.current_state = None\n",
        "\n",
        "    def reset(self):\n",
        "        if self.initial_states is not None:\n",
        "            self.current_state = np.random.choice(self.initial_states)\n",
        "        else:\n",
        "            self.current_state = np.random.choice(self.states)\n",
        "        return self.current_state\n",
        "\n",
        "    def step(self, action):\n",
        "        if self.current_state is None:\n",
        "            raise ValueError(\"Environment not reset. Call reset() before step().\")\n",
        "\n",
        "        # Get the next state based on the transition probabilities\n",
        "        trans = self.T[self.current_state, action]\n",
        "        if isinstance(trans, int):\n",
        "            next_state = trans\n",
        "        else:\n",
        "            next_state = np.random.choice(list(self.states), p=trans)\n",
        "        reward = self.R[self.current_state, action]\n",
        "        termination = next_state in self.terminal_states\n",
        "\n",
        "        self.current_state = next_state\n",
        "        return next_state, reward, termination"
      ]
    },
    {
      "cell_type": "code",
      "execution_count": 25,
      "metadata": {},
      "outputs": [
        {
          "name": "stdout",
          "output_type": "stream",
          "text": [
            "[(0, 0, -0.1), (1, 0, 1.0)]\n",
            "[(0, 0, 0.0), (1, 2, 0.0), (1, 0, 0.0), (1, 1, 0.0), (1, 2, 0.0)]\n",
            "[(0, 1, 0.1)]\n",
            "[(0, 0, -0.1), (0, 0, -0.1), (0, 0, -0.1), (1, 0, 1.0), (1, 0, 1.0)]\n",
            "[(0, 0, -0.1), (1, 1, 1.0)]\n"
          ]
        }
      ],
      "source": [
        "def run_episode(mdp):\n",
        "    states, actions, T, R = mdp\n",
        "    agent = Agent(actions)\n",
        "    env = Env(states, actions, T, R, terminal_states={2}, initial_states=[0])\n",
        "\n",
        "    s = env.reset()\n",
        "    tau = []\n",
        "    termination = False\n",
        "    for _ in range(5):\n",
        "        a = agent.act(s)\n",
        "        s_next, r, termination = env.step(a)\n",
        "\n",
        "        tau.append((s, a, r))\n",
        "        s = s_next\n",
        "\n",
        "        if termination:\n",
        "            break\n",
        "\n",
        "    return tau\n",
        "\n",
        "run_A = run_episode(A_mdp)\n",
        "run_B = run_episode(B_mdp)\n",
        "run_C = run_episode(C_mdp)\n",
        "run_D = run_episode(D_mdp)\n",
        "run_E = run_episode(E_mdp)\n",
        "\n",
        "print(run_A)\n",
        "print(run_B)\n",
        "print(run_C)\n",
        "print(run_D)\n",
        "print(run_E)"
      ]
    },
    {
      "cell_type": "markdown",
      "metadata": {
        "id": "lxHNM9kS74WW"
      },
      "source": [
        "### Return, expected return\n",
        "\n",
        "Наиболее важная метрика оценки качества работы агента: отдача.\n",
        "\n",
        "Отдача: $G(s_t) = \\sum_{i=t}^T r_i$\n",
        "\n",
        "Обычно также вводят параметр $\\gamma \\in [0, 1]$, дисконтирующий будущие вознаграждения. А еще, тк отдача может меняться от запуска к запуску благодаря вероятностным процессам, нас интересует отдача в среднем — ожидаемая отдача:\n",
        "\n",
        "$$\\hat{G}(s_t) = \\mathbb{E} [ \\sum_{i=t}^T \\gamma^{i-t} r_i ]$$\n",
        "\n",
        "Именно ее и оптимизируют в RL.\n",
        "\n",
        "Давайте научимся считать отдачу для состояний по траектории и считать среднюю отдачу."
      ]
    },
    {
      "cell_type": "code",
      "execution_count": 31,
      "metadata": {
        "id": "scdThsNA8T2B"
      },
      "outputs": [
        {
          "name": "stdout",
          "output_type": "stream",
          "text": [
            "G_hat_A=0.8000000000000002\n",
            "G_hat_B=0.46738620000000003\n",
            "G_hat_C=0.19424729999999998\n",
            "G_hat_D=1.0397854700000002\n",
            "G_hat_E=0.10194600000000001\n"
          ]
        }
      ],
      "source": [
        "def compute_G_by_run(tau, gamma=0.9):\n",
        "    G = 0.0\n",
        "    for t, (_, _, r) in enumerate(tau):\n",
        "        G += (gamma ** t) * r\n",
        "    return G\n",
        "\n",
        "def compute_return(mdp, n_runs=1000, gamma=0.9):\n",
        "    return np.mean([compute_G_by_run(run_episode(mdp), gamma) for _ in range(n_runs)])\n",
        "\n",
        "G_hat_A = compute_return(A_mdp)\n",
        "G_hat_B = compute_return(B_mdp)\n",
        "G_hat_C = compute_return(C_mdp)\n",
        "G_hat_D = compute_return(D_mdp)\n",
        "G_hat_E = compute_return(E_mdp)\n",
        "\n",
        "print(f'{G_hat_A=}\\n{G_hat_B=}\\n{G_hat_C=}\\n{G_hat_D=}\\n{G_hat_E=}')"
      ]
    }
  ],
  "metadata": {
    "colab": {
      "provenance": []
    },
    "kernelspec": {
      "display_name": "Python 3",
      "name": "python3"
    },
    "language_info": {
      "codemirror_mode": {
        "name": "ipython",
        "version": 3
      },
      "file_extension": ".py",
      "mimetype": "text/x-python",
      "name": "python",
      "nbconvert_exporter": "python",
      "pygments_lexer": "ipython3",
      "version": "3.11.3"
    }
  },
  "nbformat": 4,
  "nbformat_minor": 0
}
