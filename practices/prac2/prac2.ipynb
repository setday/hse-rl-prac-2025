{
  "cells": [
    {
      "cell_type": "markdown",
      "metadata": {
        "id": "2aA14kYCYSwo"
      },
      "source": [
        "## Динамическое программирование"
      ]
    },
    {
      "cell_type": "markdown",
      "metadata": {
        "id": "roQ4hAstjVce"
      },
      "source": [
        "Рассмотрим алгоритм итерации по оценкам состояния $V$ (Value Iteration):\n",
        "$$\n",
        "V_{(i+1)}(s) = \\max_a \\sum_{s'} P(s' | s,a) \\cdot [ r(s,a,s') + \\gamma V_{i}(s')]\n",
        "$$\n",
        "На основе оценки $V_i$ можно посчитать функцию оценки $Q_i$ действия $a$ в состоянии $s$:\n",
        "$$\n",
        "Q_i(s, a) = \\sum_{s'} P(s' | s,a) \\cdot [ r(s,a,s') + \\gamma V_{i}(s')]\n",
        "$$\n",
        "$$\n",
        "V_{(i+1)}(s) = \\max_a Q_i(s,a)\n",
        "$$\n",
        "\n",
        "Зададим напрямую модель MDP с картинки:\n",
        "<img src=\"https://raw.githubusercontent.com/Tviskaron/mipt/master/2019/RL/02/mdp.png\" caption=\"Марковский процесс принятия решений\" style=\"width: 400px;\">"
      ]
    },
    {
      "cell_type": "code",
      "execution_count": 1,
      "metadata": {
        "id": "l6LwgNvgYXIP"
      },
      "outputs": [
        {
          "name": "stderr",
          "output_type": "stream",
          "text": [
            "  % Total    % Received % Xferd  Average Speed   Time    Time     Time  Current\n",
            "                                 Dload  Upload   Total   Spent    Left  Speed\n",
            "\n",
            "  0     0    0     0    0     0      0      0 --:--:-- --:--:-- --:--:--     0\n",
            " 50 10969   50  5512    0     0   7830      0  0:00:01 --:--:--  0:00:01  7863\n",
            "100 10969  100 10969    0     0  14813      0 --:--:-- --:--:-- --:--:-- 14883\n"
          ]
        }
      ],
      "source": [
        "try:\n",
        "    import google.colab\n",
        "    COLAB = True\n",
        "except ModuleNotFoundError:\n",
        "    COLAB = False\n",
        "    pass\n",
        "\n",
        "if COLAB:\n",
        "    !wget https://raw.githubusercontent.com/Tviskaron/mipt/master/2019/RL/02/mdp.py\n",
        "else:\n",
        "    !curl -O https://raw.githubusercontent.com/Tviskaron/mipt/master/2019/RL/02/mdp.py"
      ]
    },
    {
      "cell_type": "code",
      "execution_count": 2,
      "metadata": {
        "id": "OpKyGJEJYYDn"
      },
      "outputs": [],
      "source": [
        "transition_probs = {\n",
        "  's0':{\n",
        "    'a0': {'s0': 0.5, 's2': 0.5},\n",
        "    'a1': {'s2': 1}\n",
        "  },\n",
        "  's1':{\n",
        "    'a0': {'s0': 0.7, 's1': 0.1, 's2': 0.2},\n",
        "    'a1': {'s1': 0.95, 's2': 0.05}\n",
        "  },\n",
        "  's2':{\n",
        "    'a0': {'s0': 0.4, 's2': 0.6},\n",
        "    'a1': {'s0': 0.3, 's1': 0.3, 's2':0.4}\n",
        "  }\n",
        "}\n",
        "rewards = {\n",
        "  's1': {'a0': {'s0': +5}},\n",
        "  's2': {'a1': {'s0': -1}}\n",
        "}\n",
        "\n",
        "from mdp import MDP\n",
        "import numpy as np\n",
        "mdp = MDP(transition_probs, rewards, initial_state='s0')"
      ]
    },
    {
      "cell_type": "markdown",
      "metadata": {
        "id": "IVSC6KXuYcsh"
      },
      "source": [
        "Теперь мы можем использовать это MDP, как и любое другое gym окружение:"
      ]
    },
    {
      "cell_type": "code",
      "execution_count": 3,
      "metadata": {
        "id": "PzLyFJ4iYfro"
      },
      "outputs": [
        {
          "name": "stdout",
          "output_type": "stream",
          "text": [
            "initial state = s0\n",
            "next_state =s2, reward = 0.0, done = False\n"
          ]
        }
      ],
      "source": [
        "state = mdp.reset()\n",
        "print('initial state =', state)\n",
        "next_state, reward, done, info = mdp.step('a1')\n",
        "print(f'next_state ={next_state}, reward = {reward}, done = {done}')"
      ]
    },
    {
      "cell_type": "markdown",
      "metadata": {
        "id": "UgRdVPJlYjZ4"
      },
      "source": [
        ":Также, помимо стандартных методов, есть дополнительные, которые пригодятся нам для реализации метода итерации по полезностям."
      ]
    },
    {
      "cell_type": "code",
      "execution_count": 4,
      "metadata": {
        "id": "4zK1xXedYn21"
      },
      "outputs": [
        {
          "name": "stdout",
          "output_type": "stream",
          "text": [
            "all_states = ('s0', 's1', 's2')\n",
            "possible_actions('s1') =  ('a0', 'a1')\n",
            "next_states('s1', 'a0') =  {'s0': 0.7, 's1': 0.1, 's2': 0.2}\n",
            "reward('s1', 'a0', 's0') =  5\n",
            "transition_prob('s1', 'a0', 's0') =  0.7\n"
          ]
        }
      ],
      "source": [
        "print(\"all_states =\", mdp.get_all_states())\n",
        "print(\"possible_actions('s1') = \", mdp.get_possible_actions('s1'))\n",
        "print(\"next_states('s1', 'a0') = \", mdp.get_next_states('s1', 'a0'))\n",
        "print(\"reward('s1', 'a0', 's0') = \",mdp.get_reward('s1', 'a0', 's0'))\n",
        "print(\"transition_prob('s1', 'a0', 's0') = \",\n",
        "      mdp.get_transition_prob('s1', 'a0', 's0'))"
      ]
    },
    {
      "cell_type": "markdown",
      "metadata": {
        "id": "6Oe_RzZtYq11"
      },
      "source": [
        "### Задание 1\n",
        "\n",
        "Теперь реализуем алгоритм итерации по полезностям, чтобы решить этот вручную заданный MDP. Псевдокод алгоритма:\n",
        "\n",
        "---\n",
        "\n",
        "`1.` Инициализируем $V^{(0)}(s)=0$, для всех $s$\n",
        "\n",
        "`2.` For $i=0, 1, 2, \\dots$\n",
        "\n",
        "`3.` $ \\quad V_{(i+1)}(s) = \\max_a \\sum_{s'} P(s' | s,a) \\cdot [ r(s,a,s') + \\gamma V_{i}(s')]$, для всех $s$\n",
        "\n",
        "---\n",
        "\n",
        "Вначале вычисляем оценку состояния-действия:\n",
        "$$Q_i(s, a) = \\sum_{s'} P(s' | s,a) \\cdot [ r(s,a,s') + \\gamma V_{i}(s')]$$"
      ]
    },
    {
      "cell_type": "markdown",
      "metadata": {
        "id": "1aA0DQccjody"
      },
      "source": [
        "### 1 балл"
      ]
    },
    {
      "cell_type": "code",
      "execution_count": 5,
      "metadata": {
        "id": "Qt0o0MokYv0F"
      },
      "outputs": [],
      "source": [
        "def get_action_value(\n",
        "    mdp: MDP, state_values: dict, state: object, action: str, gamma: float\n",
        ") -> float:\n",
        "    \"\"\" Вычисляем Q(s,a) по формуле выше \"\"\"\n",
        "    # вычислеяем оценку состояния\n",
        "    Q = 0.0\n",
        "    for next_state in mdp.get_next_states(state, action):\n",
        "        r = mdp.get_reward(state, action, next_state)\n",
        "        p = mdp.get_transition_prob(state, action, next_state)\n",
        "        Q += p * (r + gamma * state_values[next_state])\n",
        "    return Q"
      ]
    },
    {
      "cell_type": "code",
      "execution_count": 6,
      "metadata": {
        "id": "x06WscSIYysp"
      },
      "outputs": [],
      "source": [
        "test_Vs = {s: i for i, s in enumerate(sorted(mdp.get_all_states()))}\n",
        "assert np.isclose(get_action_value(mdp, test_Vs, 's2', 'a1', 0.9), 0.69)\n",
        "assert np.isclose(get_action_value(mdp, test_Vs, 's1', 'a0', 0.9), 3.95)"
      ]
    },
    {
      "cell_type": "markdown",
      "metadata": {
        "id": "87q6GhsMY19h"
      },
      "source": [
        "Теперь оцениваем полезность самого состояния, для этого мы можем использовать предыдущий метод:\n",
        "\n",
        "$$V_{(i+1)}(s) = \\max_a \\sum_{s'} P(s' | s,a) \\cdot [ r(s,a,s') + \\gamma V_{i}(s')] = \\max_a Q_i(s,a)$$"
      ]
    },
    {
      "cell_type": "markdown",
      "metadata": {
        "id": "2O3QFuoVj1iZ"
      },
      "source": [
        "### 1 балл"
      ]
    },
    {
      "cell_type": "code",
      "execution_count": 7,
      "metadata": {
        "id": "hFqCuRaBY5J_"
      },
      "outputs": [],
      "source": [
        "def get_new_state_value(mdp: MDP, state_values: dict, state: str, gamma: float) -> float:\n",
        "    \"\"\" Считаем следующее V(s) по формуле выше.\"\"\"\n",
        "    if mdp.is_terminal(state):\n",
        "        return 0\n",
        "    V = max(\n",
        "        get_action_value(mdp, state_values, state, action, gamma)\n",
        "        for action in mdp.get_possible_actions(state)\n",
        "    )\n",
        "\n",
        "    return V"
      ]
    },
    {
      "cell_type": "code",
      "execution_count": 8,
      "metadata": {
        "id": "lPUyRzQOY8PP"
      },
      "outputs": [],
      "source": [
        "test_Vs_copy = dict(test_Vs)\n",
        "assert np.isclose(get_new_state_value(mdp, test_Vs, 's0', 0.9), 1.8)\n",
        "assert np.isclose(get_new_state_value(mdp, test_Vs, 's2', 0.9), 1.08)\n",
        "assert np.isclose(get_new_state_value(mdp, {'s0': -1e10, 's1': 0, 's2': -2e10}, 's0', 0.9), -13500000000.0), \\\n",
        "   \"Убедитесь, что вы правильно обрабатываете отрицательные значения Q произвольной величины.\"\n",
        "assert test_Vs == test_Vs_copy, \"Убедитесь, что вы не изменяете state_values в функции get_new_state_value\""
      ]
    },
    {
      "cell_type": "markdown",
      "metadata": {
        "id": "Od-SBiPKY_Q3"
      },
      "source": [
        "Теперь создаем основной цикл итерационного оценки полезности состояний с критерием остановки, который проверяет насколько изменились полезности."
      ]
    },
    {
      "cell_type": "markdown",
      "metadata": {
        "id": "q-0-PlvmkF7P"
      },
      "source": [
        "### 1 балл"
      ]
    },
    {
      "cell_type": "code",
      "execution_count": 9,
      "metadata": {
        "id": "uUwb5JCDZDD4"
      },
      "outputs": [
        {
          "name": "stdout",
          "output_type": "stream",
          "text": [
            "iter    0 | diff: 3.50000 | V(start): 0.000 \n",
            "iter    1 | diff: 0.64500 | V(start): 0.000 \n",
            "iter    2 | diff: 0.58050 | V(start): 0.581 \n",
            "iter    3 | diff: 0.43582 | V(start): 0.866 \n",
            "iter    4 | diff: 0.30634 | V(start): 1.145 \n",
            "iter    5 | diff: 0.27571 | V(start): 1.421 \n",
            "iter    6 | diff: 0.24347 | V(start): 1.655 \n",
            "iter    7 | diff: 0.21419 | V(start): 1.868 \n",
            "iter    8 | diff: 0.19277 | V(start): 2.061 \n",
            "iter    9 | diff: 0.17327 | V(start): 2.233 \n",
            "iter   10 | diff: 0.15569 | V(start): 2.389 \n",
            "iter   11 | diff: 0.14012 | V(start): 2.529 \n",
            "iter   12 | diff: 0.12610 | V(start): 2.655 \n",
            "iter   13 | diff: 0.11348 | V(start): 2.769 \n",
            "iter   14 | diff: 0.10213 | V(start): 2.871 \n",
            "iter   15 | diff: 0.09192 | V(start): 2.963 \n",
            "iter   16 | diff: 0.08272 | V(start): 3.045 \n",
            "iter   17 | diff: 0.07445 | V(start): 3.120 \n",
            "iter   18 | diff: 0.06701 | V(start): 3.187 \n",
            "iter   19 | diff: 0.06031 | V(start): 3.247 \n",
            "iter   20 | diff: 0.05428 | V(start): 3.301 \n",
            "iter   21 | diff: 0.04885 | V(start): 3.350 \n",
            "iter   22 | diff: 0.04396 | V(start): 3.394 \n",
            "iter   23 | diff: 0.03957 | V(start): 3.434 \n",
            "iter   24 | diff: 0.03561 | V(start): 3.469 \n",
            "iter   25 | diff: 0.03205 | V(start): 3.502 \n",
            "iter   26 | diff: 0.02884 | V(start): 3.530 \n",
            "iter   27 | diff: 0.02596 | V(start): 3.556 \n",
            "iter   28 | diff: 0.02336 | V(start): 3.580 \n",
            "iter   29 | diff: 0.02103 | V(start): 3.601 \n",
            "iter   30 | diff: 0.01892 | V(start): 3.620 \n",
            "iter   31 | diff: 0.01703 | V(start): 3.637 \n",
            "iter   32 | diff: 0.01533 | V(start): 3.652 \n",
            "iter   33 | diff: 0.01380 | V(start): 3.666 \n",
            "iter   34 | diff: 0.01242 | V(start): 3.678 \n",
            "iter   35 | diff: 0.01117 | V(start): 3.689 \n",
            "iter   36 | diff: 0.01006 | V(start): 3.699 \n",
            "iter   37 | diff: 0.00905 | V(start): 3.708 \n",
            "iter   38 | diff: 0.00815 | V(start): 3.717 \n",
            "iter   39 | diff: 0.00733 | V(start): 3.724 \n",
            "iter   40 | diff: 0.00660 | V(start): 3.731 \n",
            "iter   41 | diff: 0.00594 | V(start): 3.736 \n",
            "iter   42 | diff: 0.00534 | V(start): 3.742 \n",
            "iter   43 | diff: 0.00481 | V(start): 3.747 \n",
            "iter   44 | diff: 0.00433 | V(start): 3.751 \n",
            "iter   45 | diff: 0.00390 | V(start): 3.755 \n",
            "iter   46 | diff: 0.00351 | V(start): 3.758 \n",
            "iter   47 | diff: 0.00316 | V(start): 3.762 \n",
            "iter   48 | diff: 0.00284 | V(start): 3.764 \n",
            "iter   49 | diff: 0.00256 | V(start): 3.767 \n",
            "iter   50 | diff: 0.00230 | V(start): 3.769 \n",
            "iter   51 | diff: 0.00207 | V(start): 3.771 \n",
            "iter   52 | diff: 0.00186 | V(start): 3.773 \n",
            "iter   53 | diff: 0.00168 | V(start): 3.775 \n",
            "iter   54 | diff: 0.00151 | V(start): 3.776 \n",
            "iter   55 | diff: 0.00136 | V(start): 3.778 \n",
            "iter   56 | diff: 0.00122 | V(start): 3.779 \n",
            "iter   57 | diff: 0.00110 | V(start): 3.780 \n",
            "iter   58 | diff: 0.00099 | V(start): 3.781 \n",
            "Принято! Алгоритм сходится!\n"
          ]
        }
      ],
      "source": [
        "def value_iteration(\n",
        "    mdp: MDP, state_values: dict | None = None,\n",
        "    gamma: float = 0.9, num_iter: int = 1000, min_difference: float = 1e-5\n",
        "):\n",
        "    \"\"\" выполняет num_iter шагов итерации по значениям\"\"\"\n",
        "    # инициализируем V(s)\n",
        "    state_values = state_values or \\\n",
        "    {s : 0 for s in mdp.get_all_states()}\n",
        "\n",
        "    for i in range(num_iter):\n",
        "        # Вычисляем новые полезности состояний,\n",
        "        # используя функции, определенные выше.\n",
        "        # Должен получиться словарь {s: new_V(s)}\n",
        "        new_state_values = {\n",
        "            s: get_new_state_value(mdp, state_values, s, gamma)\n",
        "            for s in state_values.keys()\n",
        "        }\n",
        "\n",
        "        assert isinstance(new_state_values, dict)\n",
        "\n",
        "        # Считаем разницу\n",
        "        diff = max(\n",
        "            abs(new_state_values[s] - state_values[s])\n",
        "            for s in mdp.get_all_states()\n",
        "        )\n",
        "\n",
        "        print(\n",
        "            f\"iter {i:4} | diff: {diff:6.5f} \"\n",
        "            f\"| V(start): {new_state_values[mdp._initial_state]:.3f} \"\n",
        "        )\n",
        "\n",
        "        state_values = new_state_values\n",
        "        if diff < min_difference:\n",
        "            print(\"Принято! Алгоритм сходится!\")\n",
        "            break\n",
        "\n",
        "    return state_values\n",
        "\n",
        "state_values = value_iteration(\n",
        "    mdp, num_iter = 100, min_difference = 0.001\n",
        ")"
      ]
    },
    {
      "cell_type": "code",
      "execution_count": 10,
      "metadata": {
        "id": "ZKomkPSrZGlZ"
      },
      "outputs": [
        {
          "name": "stdout",
          "output_type": "stream",
          "text": [
            "Final state values: {'s0': 3.7810348735476405, 's1': 7.294006423867229, 's2': 4.202140275227048}\n"
          ]
        }
      ],
      "source": [
        "print(\"Final state values:\", state_values)\n",
        "\n",
        "assert abs(state_values['s0'] - 3.781) < 0.01\n",
        "assert abs(state_values['s1'] - 7.294) < 0.01\n",
        "assert abs(state_values['s2'] - 4.202) < 0.01"
      ]
    },
    {
      "cell_type": "markdown",
      "metadata": {
        "id": "6gz5JxncZJoX"
      },
      "source": [
        "По найденным полезностям и зная модель переходов легко найти оптимальную стратегию:\n",
        "$$\\pi^*(s) = argmax_a \\sum_{s'} P(s' | s,a) \\cdot [ r(s,a,s') + \\gamma V_{i}(s')] = argmax_a Q_i(s,a)$$"
      ]
    },
    {
      "cell_type": "markdown",
      "metadata": {
        "id": "ml9AWeYrkNgf"
      },
      "source": [
        "### 1 балл"
      ]
    },
    {
      "cell_type": "code",
      "execution_count": 11,
      "metadata": {
        "id": "7gd4m26TZOn3"
      },
      "outputs": [],
      "source": [
        "def get_optimal_action(\n",
        "    mdp: MDP, state_values: dict, state: object, gamma: float = 0.9\n",
        "):\n",
        "    \"\"\" Находим оптимальное действие, используя формулу выше. \"\"\"\n",
        "    if mdp.is_terminal(state): return None\n",
        "\n",
        "    actions = mdp.get_possible_actions(state)\n",
        "    # выбираем лучшее действие\n",
        "    i = np.argmax([\n",
        "        get_action_value(mdp, state_values, state, action, gamma)\n",
        "        for action in actions\n",
        "    ])\n",
        "\n",
        "    return actions[i]"
      ]
    },
    {
      "cell_type": "code",
      "execution_count": 12,
      "metadata": {
        "id": "yv3MRqaQZSzs"
      },
      "outputs": [],
      "source": [
        "assert get_optimal_action(mdp, state_values, 's0', 0.9) == 'a1'\n",
        "assert get_optimal_action(mdp, state_values, 's1', 0.9) == 'a0'\n",
        "assert get_optimal_action(mdp, state_values, 's2', 0.9) == 'a1'\n",
        "\n",
        "assert get_optimal_action(mdp, {'s0': -1e10, 's1': 0, 's2': -2e10}, 's0', 0.9) == 'a0', \\\n",
        "    \"Убедитесь, что вы правильно обрабатываете отрицательные значения Q произвольной величины.\"\n",
        "assert get_optimal_action(mdp, {'s0': -2e10, 's1': 0, 's2': -1e10}, 's0', 0.9) == 'a1', \\\n",
        "    \"Убедитесь, что вы правильно обрабатываете отрицательные значения Q произвольной величины.\""
      ]
    },
    {
      "cell_type": "code",
      "execution_count": 13,
      "metadata": {
        "id": "V1KMZyhbZVVX"
      },
      "outputs": [
        {
          "name": "stdout",
          "output_type": "stream",
          "text": [
            "average reward:  0.4575\n"
          ]
        }
      ],
      "source": [
        "# Проверим среднее вознаграждение агента\n",
        "\n",
        "s = mdp.reset()\n",
        "rewards = []\n",
        "for _ in range(10000):\n",
        "    s, r, done, _ = mdp.step(get_optimal_action(mdp, state_values, s, 0.9))\n",
        "    rewards.append(r)\n",
        "\n",
        "print(\"average reward: \", np.mean(rewards))\n",
        "\n",
        "assert(0.40 < np.mean(rewards) < 0.55)"
      ]
    },
    {
      "cell_type": "markdown",
      "metadata": {
        "id": "xkokwmulZYYn"
      },
      "source": [
        "### Задание 2\n",
        "\n",
        "Теперь проверим работу итерации по ценностям на классической задаче FrozenLake."
      ]
    },
    {
      "cell_type": "code",
      "execution_count": 14,
      "metadata": {
        "id": "E4V34IMzZbeH"
      },
      "outputs": [
        {
          "name": "stdout",
          "output_type": "stream",
          "text": [
            "*FFF\n",
            "FHFH\n",
            "FFFH\n",
            "HFFG\n",
            "\n",
            "iter    0 | diff: 1.00000 | V(start): 0.000 \n",
            "iter    1 | diff: 0.90000 | V(start): 0.000 \n",
            "iter    2 | diff: 0.81000 | V(start): 0.000 \n",
            "iter    3 | diff: 0.72900 | V(start): 0.000 \n",
            "iter    4 | diff: 0.65610 | V(start): 0.000 \n",
            "iter    5 | diff: 0.59049 | V(start): 0.590 \n",
            "iter    6 | diff: 0.00000 | V(start): 0.590 \n",
            "Принято! Алгоритм сходится!\n"
          ]
        }
      ],
      "source": [
        "from mdp import FrozenLakeEnv\n",
        "mdp = FrozenLakeEnv(slip_chance=0)\n",
        "\n",
        "mdp.render()\n",
        "state_values = value_iteration(mdp)"
      ]
    },
    {
      "cell_type": "markdown",
      "metadata": {
        "id": "vNPtPQo2ZdpV"
      },
      "source": [
        "Визуализируем нашу стратегию."
      ]
    },
    {
      "cell_type": "code",
      "execution_count": 15,
      "metadata": {
        "id": "aQP4HnjNZg4C"
      },
      "outputs": [],
      "source": [
        "import matplotlib.pyplot as plt\n",
        "%matplotlib inline\n",
        "\n",
        "def draw_policy(mdp, state_values, gamma=0.9):\n",
        "    \"\"\"функция визуализации стратегии\"\"\"\n",
        "    plt.figure(figsize=(3, 3))\n",
        "    h, w = mdp.desc.shape\n",
        "    states = sorted(mdp.get_all_states())\n",
        "    V = np.array([state_values[s] for s in states])\n",
        "    Pi = {\n",
        "        s: get_optimal_action(mdp, state_values, s, gamma)\n",
        "        for s in states\n",
        "    }\n",
        "    plt.imshow(\n",
        "        V.reshape(w, h),\n",
        "        cmap='gray', interpolation='none',\n",
        "        clim=(0, 1)\n",
        "    )\n",
        "    ax = plt.gca()\n",
        "    ax.set_xticks(np.arange(h) - .5)\n",
        "    ax.set_yticks(np.arange(w) - .5)\n",
        "    ax.set_xticklabels([])\n",
        "    ax.set_yticklabels([])\n",
        "    Y, X = np.mgrid[0:4, 0:4]\n",
        "    a2uv = {'left': (-1, 0), 'down': (0, -1),\n",
        "            'right': (1, 0), 'up': (-1, 0)}\n",
        "    for y in range(h):\n",
        "        for x in range(w):\n",
        "            plt.text(x, y, str(mdp.desc[y, x].item()),\n",
        "                     color='g', size=12,\n",
        "                     verticalalignment='center',\n",
        "                     horizontalalignment='center',\n",
        "                     fontweight='bold')\n",
        "            a = Pi[y, x]\n",
        "            if a is None: continue\n",
        "            u, v = a2uv[a]\n",
        "            plt.arrow(x, y, u * .3, -v * .3,\n",
        "                      color='m', head_width=0.1,\n",
        "                      head_length=0.1)\n",
        "    plt.grid(color='b', lw=2, ls='-')\n",
        "    plt.show()\n"
      ]
    },
    {
      "cell_type": "code",
      "execution_count": 16,
      "metadata": {
        "id": "UJ2zkkx2Zlec"
      },
      "outputs": [
        {
          "name": "stdout",
          "output_type": "stream",
          "text": [
            "after iteration 29\n",
            "iter    0 | diff: 0.00000 | V(start): 0.198 \n",
            "Принято! Алгоритм сходится!\n"
          ]
        },
        {
          "data": {
            "image/png": "[encoded data removed]",
            "text/plain": [
              "<Figure size 300x300 with 1 Axes>"
            ]
          },
          "metadata": {},
          "output_type": "display_data"
        }
      ],
      "source": [
        "from IPython.display import clear_output\n",
        "from time import sleep\n",
        "mdp = FrozenLakeEnv(map_name='8x8',slip_chance=0.1)\n",
        "state_values = {s : 0 for s in mdp.get_all_states()}\n",
        "\n",
        "for i in range(30):\n",
        "    clear_output(True)\n",
        "    print(\"after iteration %i\"%i)\n",
        "    state_values = value_iteration(mdp,\n",
        "                            state_values, num_iter=1)\n",
        "    draw_policy(mdp, state_values)\n",
        "    sleep(0.5)"
      ]
    },
    {
      "cell_type": "markdown",
      "metadata": {
        "id": "nltqOBDfZoFG"
      },
      "source": [
        "Посмотрим на оптимальную стратегию:"
      ]
    },
    {
      "cell_type": "code",
      "execution_count": 17,
      "metadata": {
        "id": "CKJ1oJapZq77"
      },
      "outputs": [
        {
          "name": "stdout",
          "output_type": "stream",
          "text": [
            "*FFFFFFF\n",
            "FFFFFFFF\n",
            "FFFHFFFF\n",
            "FFFFFHFF\n",
            "FFFHFFFF\n",
            "FHHFFFHF\n",
            "FHFFHFHF\n",
            "FFFHFFFG\n",
            "\n",
            "right\n",
            "\n",
            "S*FFFFFF\n",
            "FFFFFFFF\n",
            "FFFHFFFF\n",
            "FFFFFHFF\n",
            "FFFHFFFF\n",
            "FHHFFFHF\n",
            "FHFFHFHF\n",
            "FFFHFFFG\n",
            "\n",
            "right\n",
            "\n",
            "SF*FFFFF\n",
            "FFFFFFFF\n",
            "FFFHFFFF\n",
            "FFFFFHFF\n",
            "FFFHFFFF\n",
            "FHHFFFHF\n",
            "FHFFHFHF\n",
            "FFFHFFFG\n",
            "\n",
            "right\n",
            "\n",
            "SFF*FFFF\n",
            "FFFFFFFF\n",
            "FFFHFFFF\n",
            "FFFFFHFF\n",
            "FFFHFFFF\n",
            "FHHFFFHF\n",
            "FHFFHFHF\n",
            "FFFHFFFG\n",
            "\n",
            "right\n",
            "\n",
            "SFFF*FFF\n",
            "FFFFFFFF\n",
            "FFFHFFFF\n",
            "FFFFFHFF\n",
            "FFFHFFFF\n",
            "FHHFFFHF\n",
            "FHFFHFHF\n",
            "FFFHFFFG\n",
            "\n",
            "right\n",
            "\n",
            "SFFFF*FF\n",
            "FFFFFFFF\n",
            "FFFHFFFF\n",
            "FFFFFHFF\n",
            "FFFHFFFF\n",
            "FHHFFFHF\n",
            "FHFFHFHF\n",
            "FFFHFFFG\n",
            "\n",
            "right\n",
            "\n",
            "SFFFFF*F\n",
            "FFFFFFFF\n",
            "FFFHFFFF\n",
            "FFFFFHFF\n",
            "FFFHFFFF\n",
            "FHHFFFHF\n",
            "FHFFHFHF\n",
            "FFFHFFFG\n",
            "\n",
            "down\n",
            "\n",
            "SFFFFFFF\n",
            "FFFFFF*F\n",
            "FFFHFFFF\n",
            "FFFFFHFF\n",
            "FFFHFFFF\n",
            "FHHFFFHF\n",
            "FHFFHFHF\n",
            "FFFHFFFG\n",
            "\n",
            "down\n",
            "\n",
            "SFFFFFFF\n",
            "FFFFFFFF\n",
            "FFFHFF*F\n",
            "FFFFFHFF\n",
            "FFFHFFFF\n",
            "FHHFFFHF\n",
            "FHFFHFHF\n",
            "FFFHFFFG\n",
            "\n",
            "down\n",
            "\n",
            "SFFFFFFF\n",
            "FFFFFFFF\n",
            "FFFHFFFF\n",
            "FFFFFH*F\n",
            "FFFHFFFF\n",
            "FHHFFFHF\n",
            "FHFFHFHF\n",
            "FFFHFFFG\n",
            "\n",
            "right\n",
            "\n",
            "SFFFFFFF\n",
            "FFFFFFFF\n",
            "FFFHFFFF\n",
            "FFFFFHF*\n",
            "FFFHFFFF\n",
            "FHHFFFHF\n",
            "FHFFHFHF\n",
            "FFFHFFFG\n",
            "\n",
            "down\n",
            "\n",
            "SFFFFFFF\n",
            "FFFFFFFF\n",
            "FFFHFFFF\n",
            "FFFFFHFF\n",
            "FFFHFFF*\n",
            "FHHFFFHF\n",
            "FHFFHFHF\n",
            "FFFHFFFG\n",
            "\n",
            "down\n",
            "\n",
            "SFFFFFFF\n",
            "FFFFFFFF\n",
            "FFFHFFFF\n",
            "FFFFFHFF\n",
            "FFFHFFFF\n",
            "FHHFFFH*\n",
            "FHFFHFHF\n",
            "FFFHFFFG\n",
            "\n",
            "down\n",
            "\n",
            "SFFFFFFF\n",
            "FFFFFFFF\n",
            "FFFHFFFF\n",
            "FFFFFHFF\n",
            "FFFHFFFF\n",
            "FHHFFFHF\n",
            "FHFFHFH*\n",
            "FFFHFFFG\n",
            "\n",
            "down\n",
            "\n",
            "SFFFFFFF\n",
            "FFFFFFFF\n",
            "FFFHFFFF\n",
            "FFFFFHFF\n",
            "FFFHFFFF\n",
            "FHHFFFHF\n",
            "FHFFHFHF\n",
            "FFFHFFF*\n",
            "\n"
          ]
        }
      ],
      "source": [
        "s = mdp.reset()\n",
        "mdp.render()\n",
        "for t in range(100):\n",
        "    a = get_optimal_action(mdp, state_values, s, 0.9)\n",
        "    print(a, end='\\n\\n')\n",
        "    s, r, done, _ = mdp.step(a)\n",
        "    mdp.render()\n",
        "    if done:\n",
        "        break"
      ]
    },
    {
      "cell_type": "markdown",
      "metadata": {
        "id": "ksq-NonlZtHM"
      },
      "source": [
        "Тестируем на более сложном варианте окружения:"
      ]
    },
    {
      "cell_type": "markdown",
      "metadata": {
        "id": "Z6g4fbKkkZza"
      },
      "source": [
        "### 1 балл"
      ]
    },
    {
      "cell_type": "code",
      "execution_count": 18,
      "metadata": {
        "id": "yOBqWNBfZv6v"
      },
      "outputs": [
        {
          "name": "stdout",
          "output_type": "stream",
          "text": [
            "iter    0 | diff: 0.80000 | V(start): 0.000 \n",
            "iter    1 | diff: 0.57600 | V(start): 0.000 \n",
            "iter    2 | diff: 0.41472 | V(start): 0.000 \n",
            "iter    3 | diff: 0.29860 | V(start): 0.000 \n",
            "iter    4 | diff: 0.24186 | V(start): 0.000 \n",
            "iter    5 | diff: 0.19349 | V(start): 0.000 \n",
            "iter    6 | diff: 0.15325 | V(start): 0.000 \n",
            "iter    7 | diff: 0.12288 | V(start): 0.000 \n",
            "iter    8 | diff: 0.09930 | V(start): 0.000 \n",
            "iter    9 | diff: 0.08037 | V(start): 0.000 \n",
            "iter   10 | diff: 0.06426 | V(start): 0.000 \n",
            "iter   11 | diff: 0.05129 | V(start): 0.000 \n",
            "iter   12 | diff: 0.04330 | V(start): 0.000 \n",
            "iter   13 | diff: 0.03802 | V(start): 0.033 \n",
            "iter   14 | diff: 0.03332 | V(start): 0.058 \n",
            "iter   15 | diff: 0.02910 | V(start): 0.087 \n",
            "iter   16 | diff: 0.01855 | V(start): 0.106 \n",
            "iter   17 | diff: 0.01403 | V(start): 0.120 \n",
            "iter   18 | diff: 0.00810 | V(start): 0.128 \n",
            "iter   19 | diff: 0.00555 | V(start): 0.133 \n",
            "iter   20 | diff: 0.00321 | V(start): 0.137 \n",
            "iter   21 | diff: 0.00247 | V(start): 0.138 \n",
            "iter   22 | diff: 0.00147 | V(start): 0.139 \n",
            "iter   23 | diff: 0.00104 | V(start): 0.140 \n",
            "iter   24 | diff: 0.00058 | V(start): 0.140 \n",
            "iter   25 | diff: 0.00036 | V(start): 0.141 \n",
            "iter   26 | diff: 0.00024 | V(start): 0.141 \n",
            "iter   27 | diff: 0.00018 | V(start): 0.141 \n",
            "iter   28 | diff: 0.00012 | V(start): 0.141 \n",
            "iter   29 | diff: 0.00007 | V(start): 0.141 \n",
            "iter   30 | diff: 0.00004 | V(start): 0.141 \n",
            "iter   31 | diff: 0.00003 | V(start): 0.141 \n",
            "iter   32 | diff: 0.00001 | V(start): 0.141 \n",
            "iter   33 | diff: 0.00001 | V(start): 0.141 \n",
            "Принято! Алгоритм сходится!\n",
            "Cреднее вознаграждение: 0.758\n",
            "Принято!\n"
          ]
        }
      ],
      "source": [
        "mdp = FrozenLakeEnv(slip_chance=0.2, map_name='8x8')\n",
        "state_values = value_iteration(mdp)\n",
        "\n",
        "total_rewards = []\n",
        "for game_i in range(1000):\n",
        "    s = mdp.reset()\n",
        "    rewards = []\n",
        "    for t in range(100):\n",
        "        # выполняем оптимальное действие в окружении\n",
        "        a = get_optimal_action(mdp, state_values, s, 0.9)\n",
        "        s, r, done, _ = mdp.step(a)\n",
        "\n",
        "        rewards.append(r)\n",
        "        if done:\n",
        "            break\n",
        "    total_rewards.append(np.sum(rewards))\n",
        "\n",
        "print(\"Cреднее вознаграждение:\", np.mean(total_rewards))\n",
        "assert(0.6 <= np.mean(total_rewards) <= 0.8)\n",
        "print(\"Принято!\")"
      ]
    },
    {
      "cell_type": "markdown",
      "metadata": {
        "id": "sOEo-OheZyYP"
      },
      "source": [
        "### Задание 3\n",
        "\n",
        "Теперь рассмотрим алгоритм итерации по стратегиям (PI, policy iteration):\n",
        "\n",
        "---\n",
        "Initialize $\\pi_0$   `// случайно`\n",
        "\n",
        "For $n=0, 1, 2, \\dots$\n",
        "- Считаем функцию $V^{\\pi_{n}}$\n",
        "- Используя $V^{\\pi_{n}}$, считаем функцию $Q^{\\pi_{n}}$\n",
        "- Получаем новую стратегию: $\\pi_{n+1}(s) = \\operatorname*{argmax}_a Q^{\\pi_{n}}(s,a)$\n",
        "---\n",
        "\n",
        "PI включает в себя оценку полезности состояния, как внутренний шаг."
      ]
    },
    {
      "cell_type": "markdown",
      "metadata": {
        "id": "Diaeh1f7Z010"
      },
      "source": [
        "Вначале оценим полезности, используя текущую стратегию:\n",
        "$$V^{\\pi}(s) = \\sum_{s'} P(s,\\pi(s),s')[ R(s,\\pi(s),s') + \\gamma V^{\\pi}(s')]$$\n",
        "    Мы будем искать точное решение, хотя могли использовать и предыдущий итерационный подход. Для этого будем решать систему линейных уравнений относительно $V^{\\pi}(s_i)$ с помощью np.linalg.solve."
      ]
    },
    {
      "cell_type": "markdown",
      "metadata": {
        "id": "3pFDjkE2kfsY"
      },
      "source": [
        "### 3 балла"
      ]
    },
    {
      "cell_type": "code",
      "execution_count": 46,
      "metadata": {
        "id": "-RpV4Yw8Z3bi"
      },
      "outputs": [],
      "source": [
        "from numpy.linalg import solve\n",
        "\n",
        "# V^pi(s) = P(s, pi(s))^T @ R(s, pi(s)) + gamma * P(s, pi(s))^T @ V^pi\n",
        "\n",
        "def compute_vpi(mdp: MDP, policy: dict, gamma: float) -> dict:\n",
        "    \"\"\"\n",
        "    Считем V^pi(s) для всех состояний, согласно стратегии.\n",
        "    :param policy: словарь состояние->действие {s : a}\n",
        "    :returns: словарь {state : V^pi(state)}\n",
        "    \"\"\"\n",
        "    states = mdp.get_all_states()\n",
        "    A, b = [], []\n",
        "    for i, state in enumerate(states):\n",
        "        if state in policy:\n",
        "            a = policy[state]\n",
        "            # формируем матрицу A (... A.append(...))\n",
        "            ####### Здесь ваш код ########\n",
        "            A.append([\n",
        "                (1.0 if j == i else 0.0) -\n",
        "                mdp.get_transition_prob(state, a, next_state) * gamma\n",
        "                for j, next_state in enumerate(states)\n",
        "            ])\n",
        "\n",
        "            # и вектор b (b.append(...))\n",
        "            b.append(sum(\n",
        "                mdp.get_transition_prob(state, a, next_state) *\n",
        "                mdp.get_reward(state, a, next_state)\n",
        "                for next_state in mdp.get_next_states(state, a)\n",
        "            ))\n",
        "\n",
        "        else:\n",
        "            # No possible actions\n",
        "\n",
        "            # формируем матрицу A (... A.append(...))\n",
        "            A.append([\n",
        "                1.0 if j == i else 0.0\n",
        "                for j in range(len(states))\n",
        "            ])\n",
        "\n",
        "            # вектор b (b.append(...))\n",
        "            b.append(0.0)\n",
        "\n",
        "    A = np.array(A)\n",
        "    b = np.array(b)\n",
        "    values = solve(A, b)\n",
        "\n",
        "    state_values = {\n",
        "        states[i] : values[i]\n",
        "        for i in range(len(states))\n",
        "    }\n",
        "    return state_values"
      ]
    },
    {
      "cell_type": "code",
      "execution_count": 93,
      "metadata": {
        "id": "qeb79E20Z6d7"
      },
      "outputs": [
        {
          "name": "stdout",
          "output_type": "stream",
          "text": [
            "{'s0': 'a1', 's1': 'a0', 's2': 'a0'}\n",
            "{'s0': 8.031919916894896, 's1': 11.171970913211831, 's2': 8.924355463216552}\n"
          ]
        }
      ],
      "source": [
        "transition_probs = {\n",
        "    's0': {\n",
        "        'a0': {'s0': 0.5, 's2': 0.5},\n",
        "        'a1': {'s2': 1}\n",
        "    },\n",
        "    's1': {\n",
        "        'a0': {'s0': 0.7, 's1': 0.1, 's2': 0.2},\n",
        "        'a1': {'s1': 0.95, 's2': 0.05}\n",
        "    },\n",
        "    's2': {\n",
        "        'a0': {'s0': 0.4, 's1': 0.6},\n",
        "        'a1': {'s0': 0.3, 's1': 0.3, 's2': 0.4}\n",
        "    }\n",
        "}\n",
        "rewards = {\n",
        "    's1': {'a0': {'s0': +5}},\n",
        "    's2': {'a1': {'s0': -1}}\n",
        "}\n",
        "mdp = MDP(transition_probs, rewards, initial_state='s0')\n",
        "\n",
        "gamma = 0.9\n",
        "\n",
        "# test_policy = {\n",
        "#     s: np.random.choice(mdp.get_possible_actions(s))\n",
        "#     for s in mdp.get_all_states()}\n",
        "print(test_policy)\n",
        "new_vpi = compute_vpi(mdp, test_policy, gamma)\n",
        "\n",
        "print(new_vpi)\n",
        "assert type(new_vpi) is dict, \\\n",
        "    \"функция compute_vpi должна возвращать словарь \\\n",
        "    {состояние s : V^pi(s) }\""
      ]
    },
    {
      "cell_type": "markdown",
      "metadata": {
        "id": "Du2YNXpxZ9BT"
      },
      "source": [
        "Теперь обновляем стратегию на основе новых значений полезностей:"
      ]
    },
    {
      "cell_type": "markdown",
      "metadata": {
        "id": "WsYlHPblkrSI"
      },
      "source": [
        "### 1 балл"
      ]
    },
    {
      "cell_type": "code",
      "execution_count": 98,
      "metadata": {
        "id": "TGCHMeaUZ_Qj"
      },
      "outputs": [],
      "source": [
        "def compute_new_policy(mdp: MDP, vpi: dict, gamma: float) -> dict:\n",
        "    \"\"\"\n",
        "    Рассчитываем новую стратегию\n",
        "    :param vpi: словарь {state : V^pi(state) }\n",
        "    :returns: словарь {state : оптимальное действие}\n",
        "    \"\"\"\n",
        "    Q = {}\n",
        "    for state in mdp.get_all_states():\n",
        "        Q[state] = {}\n",
        "        for a in mdp.get_possible_actions(state):\n",
        "            values = []\n",
        "            for next_state in mdp.get_next_states(state, a):\n",
        "                r = mdp.get_reward(state, a, next_state)\n",
        "                p = mdp.get_transition_prob(\n",
        "                    state, a, next_state\n",
        "                )\n",
        "                # values.append(...)\n",
        "                values.append(p * (r + gamma * vpi[next_state]))\n",
        "\n",
        "            Q[state][a] = sum(values)\n",
        "\n",
        "\n",
        "    policy = {}\n",
        "    for state in mdp.get_all_states():\n",
        "        actions = mdp.get_possible_actions(state)\n",
        "        if actions:\n",
        "            # выбираем оптимальное действие в state\n",
        "            # policy[state] = ...\n",
        "            policy[state] = actions[np.argmax([Q[state][a] for a in actions])]\n",
        "\n",
        "    return policy"
      ]
    },
    {
      "cell_type": "code",
      "execution_count": 99,
      "metadata": {
        "id": "1b1OXlg9aBsy"
      },
      "outputs": [
        {
          "name": "stdout",
          "output_type": "stream",
          "text": [
            "{'s0': 'a1', 's1': 'a0', 's2': 'a0'}\n"
          ]
        }
      ],
      "source": [
        "new_policy = compute_new_policy(mdp, new_vpi, gamma)\n",
        "\n",
        "print(new_policy)\n",
        "\n",
        "assert type(new_policy) is dict, \\\n",
        "\"функция compute_new_policy должна возвращать словарь \\\n",
        "{состояние s: оптимальное действие}\""
      ]
    },
    {
      "cell_type": "markdown",
      "metadata": {
        "id": "15mJglOZaEmI"
      },
      "source": [
        "Собираем все в единый цикл:"
      ]
    },
    {
      "cell_type": "markdown",
      "metadata": {
        "id": "cIrgcIqKkxD2"
      },
      "source": [
        "### 1 балл"
      ]
    },
    {
      "cell_type": "code",
      "execution_count": 100,
      "metadata": {
        "id": "2LcLHHhIaHAZ"
      },
      "outputs": [],
      "source": [
        "def policy_iteration(\n",
        "    mdp, policy=None, gamma = 0.9,\n",
        "    num_iter = 1000, min_difference = 1e-5\n",
        "):\n",
        "    \"\"\"\n",
        "    Запускаем цикл итерации по стратегиям\n",
        "    Если стратегия не определена, задаем случайную\n",
        "    \"\"\"\n",
        "    for i in range(num_iter):\n",
        "        if not policy:\n",
        "            policy = {}\n",
        "            for s in mdp.get_all_states():\n",
        "                if mdp.get_possible_actions(s):\n",
        "                    policy[s] = (\n",
        "                        np.random.choice(mdp.get_possible_actions(s))\n",
        "                    )\n",
        "        state_values = compute_vpi(mdp, policy, gamma)\n",
        "\n",
        "        policy = compute_new_policy(mdp, state_values, gamma)\n",
        "    return state_values, policy"
      ]
    },
    {
      "cell_type": "markdown",
      "metadata": {
        "id": "ddfLTSfgaJjU"
      },
      "source": [
        "Тестируем на FrozenLake."
      ]
    },
    {
      "cell_type": "code",
      "execution_count": 101,
      "metadata": {
        "id": "4hLv3X0OaKmg"
      },
      "outputs": [
        {
          "name": "stdout",
          "output_type": "stream",
          "text": [
            "average reward:  0.881\n",
            "Принято!\n"
          ]
        }
      ],
      "source": [
        "mdp = FrozenLakeEnv(slip_chance=0.1)\n",
        "state_values, policy = policy_iteration(mdp)\n",
        "\n",
        "total_rewards = []\n",
        "for game_i in range(1000):\n",
        "    s = mdp.reset()\n",
        "    rewards = []\n",
        "    for t in range(100):\n",
        "        s, r, done, _ = mdp.step(policy[s])\n",
        "        rewards.append(r)\n",
        "        if done:\n",
        "            break\n",
        "    total_rewards.append(np.sum(rewards))\n",
        "\n",
        "print(\"average reward: \", np.mean(total_rewards))\n",
        "assert(0.8 <= np.mean(total_rewards) <= 0.95)\n",
        "print(\"Принято!\")"
      ]
    }
  ],
  "metadata": {
    "colab": {
      "provenance": []
    },
    "kernelspec": {
      "display_name": "Python 3",
      "name": "python3"
    },
    "language_info": {
      "codemirror_mode": {
        "name": "ipython",
        "version": 3
      },
      "file_extension": ".py",
      "mimetype": "text/x-python",
      "name": "python",
      "nbconvert_exporter": "python",
      "pygments_lexer": "ipython3",
      "version": "3.11.3"
    }
  },
  "nbformat": 4,
  "nbformat_minor": 0
}
